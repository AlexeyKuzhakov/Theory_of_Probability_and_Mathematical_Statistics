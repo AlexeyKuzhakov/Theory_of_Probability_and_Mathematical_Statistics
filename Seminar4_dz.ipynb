{
 "cells": [
  {
   "cell_type": "markdown",
   "id": "dfd66072",
   "metadata": {},
   "source": [
    "## Урок 4. Непрерывная случайная величина"
   ]
  },
  {
   "cell_type": "code",
   "execution_count": 2,
   "id": "754977b4",
   "metadata": {},
   "outputs": [],
   "source": [
    "import pandas as pd\n",
    "import numpy as np\n",
    "from math import factorial as fl\n",
    "import scipy.stats as st"
   ]
  },
  {
   "cell_type": "markdown",
   "id": "d80fc6c4",
   "metadata": {},
   "source": [
    "### 1. Случайная непрерывная величина A имеет равномерное распределение на промежутке (200, 800]. Найдите ее среднее значение и дисперсию."
   ]
  },
  {
   "cell_type": "code",
   "execution_count": 2,
   "id": "4a53747a",
   "metadata": {},
   "outputs": [
    {
     "name": "stdout",
     "output_type": "stream",
     "text": [
      "Среднее значение = 500.0\n"
     ]
    }
   ],
   "source": [
    "sred = (200 + 800) / 2\n",
    "print(f'Среднее значение = {sred}')"
   ]
  },
  {
   "cell_type": "code",
   "execution_count": 3,
   "id": "9f6a8ef8",
   "metadata": {},
   "outputs": [
    {
     "name": "stdout",
     "output_type": "stream",
     "text": [
      "Дисперсия = 30000.0\n"
     ]
    }
   ],
   "source": [
    "ds = (800 - 200) ** 2 / 12\n",
    "print(f'Дисперсия = {ds}')"
   ]
  },
  {
   "cell_type": "markdown",
   "id": "5727a479",
   "metadata": {},
   "source": [
    "### 2. О случайной непрерывной равномерно распределенной величине B известно, что ее дисперсия равна 0.2. Можно ли найти правую границу величины B и ее среднее значение зная, что левая граница равна 0.5? Если да, найдите ее."
   ]
  },
  {
   "cell_type": "code",
   "execution_count": 4,
   "id": "831260b1",
   "metadata": {},
   "outputs": [],
   "source": [
    "a = 0.5\n",
    "b = a + 2.4 **(1/2)"
   ]
  },
  {
   "cell_type": "code",
   "execution_count": 5,
   "id": "c4e2dd6b",
   "metadata": {},
   "outputs": [],
   "source": [
    "def mathematical_expectation(a, b):\n",
    "    return round((a + b) / 2, 2)"
   ]
  },
  {
   "cell_type": "code",
   "execution_count": 6,
   "id": "61dff627",
   "metadata": {},
   "outputs": [
    {
     "name": "stdout",
     "output_type": "stream",
     "text": [
      "Правая граница распределения b = 2.05\n",
      "Среднее значение M(B) = 1.27\n"
     ]
    }
   ],
   "source": [
    "print(f'Правая граница распределения b = {round(b, 2)}\\n'\n",
    "      f'Среднее значение M(B) = {mathematical_expectation(a, b)}')"
   ]
  },
  {
   "cell_type": "markdown",
   "id": "a9194589",
   "metadata": {},
   "source": [
    "### 3. Непрерывная случайная величина X распределена нормально и задана плотностью распределения f(x) = (1 / (4 * sqrt(2pi))) * exp((-(x+2)**2) / 32)  \n",
    "Найдите:  \n",
    "а). M(X)  \n",
    "б). D(X)  \n",
    "в). std(X) (среднее квадратичное отклонение)  "
   ]
  },
  {
   "cell_type": "markdown",
   "id": "b3443fcb",
   "metadata": {},
   "source": [
    "Формула нормального распределения:  $\\\\ f(x)=\\frac{1}{\\sigma\\sqrt{2\\\\pi}}\\cdot e^{-\\frac{(x-\\mu)^2}{2\\sigma^2}}$ из которой мы можем понять, что:  \n",
    "    \n",
    "Так как $\\mu=M(X)$ из условия мы видим, что $-\\mu=2$, следовательно $\\mu=-2$\n",
    "\n",
    "${2\\sigma^2}=32 $, следовательно $\\sigma=4 $, а так как $\\sigma^2=D(X)$, следовательно $D(X)=16$  \n",
    "\n",
    "Результат:  \n",
    "а) $М(Х) = -2 $;  \n",
    "б) $D(X) = 16$;  \n",
    "в) $\\sigma(X) = 4$  "
   ]
  },
  {
   "cell_type": "markdown",
   "id": "f4ba4eea",
   "metadata": {},
   "source": [
    "### 4. Рост взрослого населения города X имеет нормальное распределение. Причем, средний рост равен 174 см, а среднее квадратичное отклонение равно 8 см.\n",
    "Какова вероятность того, что случайным образом выбранный взрослый человек имеет рост:  \n",
    "а). больше 182 см  \n",
    "б). больше 190 см  \n",
    "в). от 166 см до 190 см  \n",
    "г). от 166 см до 182 см  \n",
    "д). от 158 см до 190 см  \n",
    "е). не выше 150 см или не ниже 190 см  \n",
    "ё). не выше 150 см или не ниже 198 см  \n",
    "ж). ниже 166 см.  "
   ]
  },
  {
   "cell_type": "code",
   "execution_count": 14,
   "id": "2e6b5602",
   "metadata": {},
   "outputs": [
    {
     "name": "stdout",
     "output_type": "stream",
     "text": [
      "Вероятность того, что рост больше 182 см = 0.1587\n",
      "Вероятность того, что рост больше 190 см = 0.0228\n",
      "Вероятность того, что рост от 166 см до 190 см = 0.8186\n",
      "Вероятность того, что рост от 166 см до 182 см = 0.6827\n",
      "Вероятность того, что рост от от 158 см до 190 см = 0.9545\n",
      "Вероятность того, что рост не выше 150 см или не ниже 190 см = 0.0241\n",
      "Вероятность того, что рост не выше 150 см или не ниже 198 см = 0.0027\n",
      "Вероятность того, что рост ниже 166 см = 0.1587\n"
     ]
    }
   ],
   "source": [
    "hight = st.norm(loc=174, scale=8)\n",
    "print(f'Вероятность того, что рост больше 182 см = {round(1 - hight.cdf(182), 4)}')\n",
    "print(f'Вероятность того, что рост больше 190 см = {round(1 - hight.cdf(190), 4)}')\n",
    "print(f'Вероятность того, что рост от 166 см до 190 см = {round(hight.cdf(190) - hight.cdf(166), 4)}')\n",
    "print(f'Вероятность того, что рост от 166 см до 182 см = {round(hight.cdf(182) - hight.cdf(166), 4)}')\n",
    "print(f'Вероятность того, что рост от от 158 см до 190 см = {round(hight.cdf(190) - hight.cdf(158), 4)}')\n",
    "print(f'Вероятность того, что рост не выше 150 см или не ниже 190 см = {round(hight.cdf(150) + (1 - hight.cdf(190)), 4)}')\n",
    "print(f'Вероятность того, что рост не выше 150 см или не ниже 198 см = {round(hight.cdf(150) + (1 - hight.cdf(198)), 4)}')\n",
    "print(f'Вероятность того, что рост ниже 166 см = {round(hight.cdf(166), 4)}')"
   ]
  },
  {
   "cell_type": "markdown",
   "id": "c5d6ba23",
   "metadata": {},
   "source": [
    "### 5. На сколько сигм (средних квадратичных отклонений) отклоняется рост человека, равный 190 см, от математического ожидания роста в популяции, в которой M(X) = 178 см и D(X) = 25 кв.см?"
   ]
  },
  {
   "cell_type": "code",
   "execution_count": 15,
   "id": "b6694fa3",
   "metadata": {},
   "outputs": [
    {
     "name": "stdout",
     "output_type": "stream",
     "text": [
      "Количество сигм (средних квадратных отклонений) = 2.4\n"
     ]
    }
   ],
   "source": [
    "print(f'Количество сигм (средних квадратных отклонений) = {(190 - 178) / np.sqrt(25)}')"
   ]
  }
 ],
 "metadata": {
  "kernelspec": {
   "display_name": "Python 3 (ipykernel)",
   "language": "python",
   "name": "python3"
  },
  "language_info": {
   "codemirror_mode": {
    "name": "ipython",
    "version": 3
   },
   "file_extension": ".py",
   "mimetype": "text/x-python",
   "name": "python",
   "nbconvert_exporter": "python",
   "pygments_lexer": "ipython3",
   "version": "3.11.4"
  }
 },
 "nbformat": 4,
 "nbformat_minor": 5
}
