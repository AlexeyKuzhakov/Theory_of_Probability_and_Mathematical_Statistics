{
 "cells": [
  {
   "cell_type": "markdown",
   "id": "1bdadd9b",
   "metadata": {},
   "source": [
    "## Урок 6. Сравнение долей. Построение доверительного интервала"
   ]
  },
  {
   "cell_type": "code",
   "execution_count": 2,
   "id": "656dfcd9",
   "metadata": {},
   "outputs": [],
   "source": [
    "import numpy as np\n",
    "import scipy.stats as stats"
   ]
  },
  {
   "cell_type": "markdown",
   "id": "29b5c0b6",
   "metadata": {},
   "source": [
    "### 1. Известно, что генеральная совокупность распределена нормально со средним квадратическим отклонением, равным 16. Найти доверительный интервал для оценки математического ожидания a с надежностью 0.95, если выборочная средняя M = 80, а объем выборки n = 256."
   ]
  },
  {
   "cell_type": "code",
   "execution_count": 1,
   "id": "1a0660de",
   "metadata": {},
   "outputs": [
    {
     "name": "stdout",
     "output_type": "stream",
     "text": [
      "Доверительный интервал: [78.04; 81.96]\n"
     ]
    }
   ],
   "source": [
    "n = 256\n",
    "x = 80\n",
    "sigma = 16\n",
    "za = 1.96\n",
    "l1 = x - za * sigma / n**0.5\n",
    "l2 = x + za * sigma / n**0.5\n",
    "print(f'Доверительный интервал: [{round(l1, 4)}; {round(l2, 4)}]')"
   ]
  },
  {
   "cell_type": "markdown",
   "id": "d031cbd5",
   "metadata": {},
   "source": [
    "### 2. В результате 10 независимых измерений некоторой величины X, выполненных с одинаковой точностью, получены опытные данные: 6.9, 6.1, 6.2, 6.8, 7.5, 6.3, 6.4, 6.9, 6.7, 6.1 Предполагая, что результаты измерений подчинены нормальному закону распределения вероятностей, оценить истинное значение величины X при помощи доверительного интервала, покрывающего это значение с доверительной вероятностью 0,95. 3.Рост дочерей 175, 167, 154, 174, 178, 148, 160, 167, 169, 170 Рост матерей  178, 165, 165, 173, 168, 155, 160, 164, 178, 175 Используя эти данные построить 95% доверительный интервал для разности среднего роста родителей и детей."
   ]
  },
  {
   "cell_type": "code",
   "execution_count": 3,
   "id": "98ba628f",
   "metadata": {},
   "outputs": [
    {
     "name": "stdout",
     "output_type": "stream",
     "text": [
      "Среднее арифметическое выборки: 6.59\n"
     ]
    }
   ],
   "source": [
    "arr2 = [6.9, 6.1, 6.2, 6.8, 7.5, 6.3, 6.4, 6.9, 6.7, 6.1]\n",
    "n2 = 10\n",
    "x2 = np.mean(arr2)\n",
    "print(f'Среднее арифметическое выборки: {round(x2, 4)}')"
   ]
  },
  {
   "cell_type": "code",
   "execution_count": 4,
   "id": "4c283ade",
   "metadata": {},
   "outputs": [
    {
     "name": "stdout",
     "output_type": "stream",
     "text": [
      "Среднее квадратическое отклонение по выборке: 0.4508\n"
     ]
    }
   ],
   "source": [
    "sigma2 = np.std(arr2, ddof = 1)\n",
    "print(f'Среднее квадратическое отклонение по выборке: {round(sigma2, 4)}')"
   ]
  },
  {
   "cell_type": "code",
   "execution_count": 5,
   "id": "8848388d",
   "metadata": {},
   "outputs": [
    {
     "name": "stdout",
     "output_type": "stream",
     "text": [
      "Значение t-критерия для 0.95% доверительного интервала: 0.4508\n"
     ]
    }
   ],
   "source": [
    "alpha2 = 0.05\n",
    "za2 = stats.t.ppf(1 - alpha2 / 2, n2 - 1)\n",
    "print(f'Значение t-критерия для {1-alpha2}% доверительного интервала: {round(sigma2, 4)}')"
   ]
  },
  {
   "cell_type": "code",
   "execution_count": 6,
   "id": "78cd62b0",
   "metadata": {},
   "outputs": [
    {
     "name": "stdout",
     "output_type": "stream",
     "text": [
      "Доверительный интервал: [6.2675; 6.9125]\n"
     ]
    }
   ],
   "source": [
    "l12 = x2 - za2 * sigma2 / n2**0.5\n",
    "l22 = x2 + za2 * sigma2 / n2**0.5\n",
    "print(f'Доверительный интервал: [{round(l12, 4)}; {round(l22, 4)}]')"
   ]
  }
 ],
 "metadata": {
  "kernelspec": {
   "display_name": "Python 3 (ipykernel)",
   "language": "python",
   "name": "python3"
  },
  "language_info": {
   "codemirror_mode": {
    "name": "ipython",
    "version": 3
   },
   "file_extension": ".py",
   "mimetype": "text/x-python",
   "name": "python",
   "nbconvert_exporter": "python",
   "pygments_lexer": "ipython3",
   "version": "3.11.4"
  }
 },
 "nbformat": 4,
 "nbformat_minor": 5
}
