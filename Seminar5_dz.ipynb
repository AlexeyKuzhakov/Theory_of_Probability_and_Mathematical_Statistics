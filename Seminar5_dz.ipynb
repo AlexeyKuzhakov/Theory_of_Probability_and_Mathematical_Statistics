{
 "cells": [
  {
   "cell_type": "markdown",
   "id": "0a08040d",
   "metadata": {},
   "source": [
    "## Урок 5. Тестирование гипотез"
   ]
  },
  {
   "cell_type": "code",
   "execution_count": 2,
   "id": "66f92614",
   "metadata": {},
   "outputs": [],
   "source": [
    "import numpy as np\n",
    "import scipy.stats as stats"
   ]
  },
  {
   "cell_type": "markdown",
   "id": "b70e4de0",
   "metadata": {},
   "source": [
    "### 1. Когда используется критерий Стьюдента, а когда Z –критерий?"
   ]
  },
  {
   "cell_type": "markdown",
   "id": "beba932f",
   "metadata": {},
   "source": [
    "**Критерий Стьюдента используется:**  \n",
    "*Когда стандартное отклонение популяции неизвестно и должно быть оценено по образец данные.  \n",
    "*Для сравнения средних значений двух групп.  \n",
    "*Для сравнения средних значений двух выборок, если данные для двух групп распределены нормально.  \n",
    "  \n",
    "**Z-критерий используется:**  \n",
    "*Когда известны среднее значение совокупности и стандартное отклонение, предполагается, что население распределено нормально  \n",
    "*Для проверки гипотезы о равенстве среднего значения генеральной совокупности с известным значением.  \n",
    "*Для проверки гипотезы о когда известны среднее значение совокупности и стандартное отклонение, что позволит оценить точность среднего значения измерения в генеральной совокупности, а также понять, насколько данные в выборке представляют собой нормальное распределение.  "
   ]
  },
  {
   "cell_type": "markdown",
   "id": "1b059173",
   "metadata": {},
   "source": [
    "### 2. Проведите тест гипотезы. Утверждается, что шарики для подшипников, изготовленные автоматическим станком, имеют средний диаметр 17 мм.\n",
    "Используя односторонний критерий с α=0,05, проверить эту гипотезу, если в выборке из n=100 шариков средний диаметр оказался равным 17.5 мм, а дисперсия известна и равна 4 кв. мм."
   ]
  },
  {
   "cell_type": "markdown",
   "id": "075ac263",
   "metadata": {},
   "source": [
    "**Определяем гипотезу**"
   ]
  },
  {
   "cell_type": "markdown",
   "id": "0de299eb",
   "metadata": {},
   "source": [
    "Основаная гипотеза $H_0: M(X)=17, \\mu=\\mu_0$  \n",
    "Альтернативная гипотеза $H_1: M(X)=17.5, \\mu>\\mu_0$  \n",
    "$ ПКО: \\Omega_\\alpha=(t_{1-\\alpha}, \\infty)$  "
   ]
  },
  {
   "cell_type": "markdown",
   "id": "4d1f6c82",
   "metadata": {},
   "source": [
    "**Определяем наблюдаемое критерий**"
   ]
  },
  {
   "cell_type": "markdown",
   "id": "4698f79a",
   "metadata": {},
   "source": [
    "Нам известны и среднее и дисперсия генеральной совокупности, соответственно для проверки гипотезы будем использовать $z$-критерий.  \n",
    "$z_н=\\frac{\\bar X-\\mu_0}{\\sigma/\\sqrt n}$:  \n",
    "  \n",
    "Дисперсия: $D(X)=4$  \n",
    "Среднее квадратическое отклонение генеральной совокупности: $\\sigma=\\sqrt{D(X)}=\\sqrt 4=2$  \n",
    "Размер выборки: $n=100$  \n",
    "$ \\bar X=17.5$  \n",
    "$ \\mu=17$  "
   ]
  },
  {
   "cell_type": "code",
   "execution_count": 2,
   "id": "408f9d5a",
   "metadata": {},
   "outputs": [
    {
     "name": "stdout",
     "output_type": "stream",
     "text": [
      "Наблюдаемое значение z-критерия: 2.5\n"
     ]
    }
   ],
   "source": [
    "mu = 17.5\n",
    "mu0 = 17\n",
    "sigma = 2\n",
    "n = 100\n",
    "\n",
    "zn = (mu - mu0) / (sigma / np.sqrt(n))\n",
    "print(f'Наблюдаемое значение z-критерия: {round(zn, 4)}')"
   ]
  },
  {
   "cell_type": "markdown",
   "id": "d6cce7b8",
   "metadata": {},
   "source": [
    "**Определяем уровень значимости**"
   ]
  },
  {
   "cell_type": "markdown",
   "id": "2e26a410",
   "metadata": {},
   "source": [
    "$\\alpha=0.05$  "
   ]
  },
  {
   "cell_type": "markdown",
   "id": "a1f2d482",
   "metadata": {},
   "source": [
    "**Определяем табличный критерий**"
   ]
  },
  {
   "cell_type": "code",
   "execution_count": 3,
   "id": "4c61c9c3",
   "metadata": {},
   "outputs": [
    {
     "name": "stdout",
     "output_type": "stream",
     "text": [
      "Табличное значение z-критерия: 1.6449\n"
     ]
    }
   ],
   "source": [
    "alpha = 0.05\n",
    "\n",
    "zt = stats.norm.ppf(1 - alpha)\n",
    "print(f'Табличное значение z-критерия: {round(zt, 4)}')"
   ]
  },
  {
   "cell_type": "code",
   "execution_count": 4,
   "id": "60a01647",
   "metadata": {},
   "outputs": [
    {
     "data": {
      "text/plain": [
       "False"
      ]
     },
     "execution_count": 4,
     "metadata": {},
     "output_type": "execute_result"
    }
   ],
   "source": [
    "zn < zt"
   ]
  },
  {
   "cell_type": "markdown",
   "id": "9cbf7aee",
   "metadata": {},
   "source": [
    "**Так как $z_н>z_t$, то нулевая гипотеза $H_0$ отвергается.**"
   ]
  },
  {
   "cell_type": "markdown",
   "id": "d9c4770b",
   "metadata": {},
   "source": [
    "### 3.Проведите тест гипотезы. Продавец утверждает, что средний вес пачки печенья составляет 200 г.  \n",
    "Из партии извлечена выборка из 10 пачек. Вес каждой пачки составляет:  \n",
    "202, 203, 199, 197, 195, 201, 200, 204, 194, 190.  \n",
    "Известно, что их веса распределены нормально.  \n",
    "Верно ли утверждение продавца, если учитывать, что доверительная вероятность равна 99%? (Провести двусторонний тест.)  "
   ]
  },
  {
   "cell_type": "markdown",
   "id": "bd7785dc",
   "metadata": {},
   "source": [
    "**Определяем гипотезу**\n",
    "  \n",
    "Основаная гипотеза $H_0: M(X)=200, \\mu=\\mu_0$  \n",
    "Альтернативная гипотеза $H_1: M(X)=200, \\mu\\neq\\mu_0$  \n",
    "$ ДКО: \\Omega_\\alpha=(- \\infty, t_{\\alpha/2},) \\cup (t_{1-\\alpha/2}, \\infty)$  "
   ]
  },
  {
   "cell_type": "markdown",
   "id": "aea0432e",
   "metadata": {},
   "source": [
    "**Определяем наблюдаемое критерий**\n",
    "  \n",
    "Нам неизвестна дисперсия и мы проверяем гипотезу относительно математического ожидания нормально распределённой случайной величины будем использовать $t$-критерий.  \n",
    "$t=\\dfrac{\\overline{X}-\\mu}{\\sigma_X/\\sqrt{n}}$  \n",
    "  \n",
    "Размер выборки: $n=10$  \n",
    "$ \\mu=200$  "
   ]
  },
  {
   "cell_type": "code",
   "execution_count": 5,
   "id": "7fd654e6",
   "metadata": {},
   "outputs": [],
   "source": [
    "arr_w = np.array([202, 203, 199, 197, 195, 201, 200, 204, 194, 190])"
   ]
  },
  {
   "cell_type": "code",
   "execution_count": 6,
   "id": "d43f57a1",
   "metadata": {},
   "outputs": [
    {
     "name": "stdout",
     "output_type": "stream",
     "text": [
      "Наблюдаемое значение t-критерия: -1.0651\n"
     ]
    }
   ],
   "source": [
    "n_w = 10\n",
    "mu_w = 200\n",
    "tn_w = (np.mean(arr_w) - mu_w) / (np.std(arr_w, ddof = 1) / n_w**0.5)\n",
    "print(f'Наблюдаемое значение t-критерия: {round(tn_w, 4)}')"
   ]
  },
  {
   "cell_type": "markdown",
   "id": "04c4122d",
   "metadata": {},
   "source": [
    "**Определяем уровень значимости**"
   ]
  },
  {
   "cell_type": "code",
   "execution_count": 7,
   "id": "9485e830",
   "metadata": {},
   "outputs": [
    {
     "name": "stdout",
     "output_type": "stream",
     "text": [
      "Табличное значение t-критерия: 3.2498\n"
     ]
    }
   ],
   "source": [
    "alpha_w = 0.005\n",
    "\n",
    "tt = stats.t.ppf(1 - alpha_w, n_w - 1)\n",
    "print(f'Табличное значение t-критерия: {round(tt, 4)}')"
   ]
  },
  {
   "cell_type": "code",
   "execution_count": 8,
   "id": "c7084f8c",
   "metadata": {},
   "outputs": [
    {
     "data": {
      "text/plain": [
       "True"
      ]
     },
     "execution_count": 8,
     "metadata": {},
     "output_type": "execute_result"
    }
   ],
   "source": [
    "np.abs(tn_w) < tt"
   ]
  },
  {
   "cell_type": "markdown",
   "id": "882d2e91",
   "metadata": {},
   "source": [
    "**Так как $|t_н|<t_t$, то нулевая гипотеза $H_0$ не отвергается**"
   ]
  },
  {
   "cell_type": "markdown",
   "id": "e648eac2",
   "metadata": {},
   "source": [
    "### 4.Есть ли статистически значимые различия в росте дочерей?  \n",
    "Рост матерей 172, 177, 158, 170, 178,175, 164, 160, 169, 165  \n",
    "Рост взрослых дочерей: 173, 175, 162, 174, 175, 168, 155, 170, 160  "
   ]
  },
  {
   "cell_type": "code",
   "execution_count": 9,
   "id": "7b8e97b3",
   "metadata": {},
   "outputs": [
    {
     "data": {
      "text/plain": [
       "TtestResult(statistic=0.6648478531431979, pvalue=0.5228168632983574, df=9)"
      ]
     },
     "execution_count": 9,
     "metadata": {},
     "output_type": "execute_result"
    }
   ],
   "source": [
    "arr1 = [172, 177, 158, 170, 178, 175, 164, 160, 169, 165]\n",
    "arr2 = [173, 175, 162, 174, 175, 168, 155, 170, 160, 163]\n",
    "\n",
    "stats.ttest_rel(arr1, arr2)"
   ]
  },
  {
   "cell_type": "markdown",
   "id": "ca5d5653",
   "metadata": {},
   "source": [
    "Так как $p-value > \\alpha (0,05)$, то нулевая гипотеза $H_0$ не отвергается на уровне значимости $\\alpha (0,05)$  \n",
    "Статистически заничмых различий в среднем росте матерей и дочерей нет"
   ]
  }
 ],
 "metadata": {
  "kernelspec": {
   "display_name": "Python 3 (ipykernel)",
   "language": "python",
   "name": "python3"
  },
  "language_info": {
   "codemirror_mode": {
    "name": "ipython",
    "version": 3
   },
   "file_extension": ".py",
   "mimetype": "text/x-python",
   "name": "python",
   "nbconvert_exporter": "python",
   "pygments_lexer": "ipython3",
   "version": "3.11.4"
  }
 },
 "nbformat": 4,
 "nbformat_minor": 5
}
