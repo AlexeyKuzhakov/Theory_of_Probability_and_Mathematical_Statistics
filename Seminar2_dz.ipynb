{
 "cells": [
  {
   "cell_type": "markdown",
   "id": "e2444274",
   "metadata": {},
   "source": [
    "## Урок 2. Дискретные распределения вероятностей"
   ]
  },
  {
   "cell_type": "code",
   "execution_count": 4,
   "id": "6dabb51c",
   "metadata": {},
   "outputs": [],
   "source": [
    "import numpy as np\n",
    "from math import factorial as f"
   ]
  },
  {
   "cell_type": "markdown",
   "id": "ec5c391d",
   "metadata": {},
   "source": [
    "### 1. Вероятность того, что стрелок попадет в мишень, выстрелив один раз, равна 0.8. Стрелок выстрелил 100 раз. Найдите вероятность того, что стрелок попадет в цель ровно 85 раз."
   ]
  },
  {
   "cell_type": "markdown",
   "id": "987f6394",
   "metadata": {},
   "source": [
    "$$p = C_{100}^{85}\\cdot{0.8}^{85}\\cdot{0.2}^{15}=0.048$$"
   ]
  },
  {
   "cell_type": "code",
   "execution_count": 5,
   "id": "dc910605",
   "metadata": {},
   "outputs": [],
   "source": [
    "def choose(n,k):\n",
    "    return f(n) / (f(k) * f(n-k))\n",
    "\n",
    "def bern(p, n, k):\n",
    "    return choose(n,k) * p**(k) * (1 - p)**(n - k)\n",
    "\n",
    "def puas(l,m):\n",
    "    return l**m/f(m)*np.exp(-l)"
   ]
  },
  {
   "cell_type": "code",
   "execution_count": 8,
   "id": "a5713c68",
   "metadata": {},
   "outputs": [
    {
     "name": "stdout",
     "output_type": "stream",
     "text": [
      "Вероятность того, что стрелок из ста выстрелов попадет в мишень ровно 85 раз = 0.0481\n"
     ]
    }
   ],
   "source": [
    "print(f'Вероятность того, что стрелок из ста выстрелов попадет в мишень ровно 85 раз = {bern(0.8, 100, 85) :.4f}')"
   ]
  },
  {
   "cell_type": "markdown",
   "id": "6bb0114c",
   "metadata": {},
   "source": [
    "### 2. Вероятность того, что лампочка перегорит в течение первого дня эксплуатации, равна 0.0004. В жилом комплексе после ремонта в один день включили 5000 новых лампочек. Какова вероятность, что ни одна из них не перегорит в первый день? Какова вероятность, что перегорят ровно две?"
   ]
  },
  {
   "cell_type": "markdown",
   "id": "568e647a",
   "metadata": {},
   "source": [
    "$$P \\approx \\frac{\\lambda^m}{m!}e^{-\\lambda} \\approx \\frac{2^{0}}{0!}e^{-2} \\approx  0.135$$"
   ]
  },
  {
   "cell_type": "markdown",
   "id": "4a224a10",
   "metadata": {},
   "source": [
    "$\\lambda = 5000\\cdot0.0004 = 2$"
   ]
  },
  {
   "cell_type": "markdown",
   "id": "a5f283d8",
   "metadata": {},
   "source": [
    "$m =0$"
   ]
  },
  {
   "cell_type": "code",
   "execution_count": 9,
   "id": "e61063ff",
   "metadata": {},
   "outputs": [],
   "source": [
    "lmbd = 5000*0.0004"
   ]
  },
  {
   "cell_type": "code",
   "execution_count": 10,
   "id": "6bc0b54f",
   "metadata": {},
   "outputs": [
    {
     "name": "stdout",
     "output_type": "stream",
     "text": [
      "Вероятность того, что не перегорит ни одна лампочка = 0.135\n"
     ]
    }
   ],
   "source": [
    "print(f'Вероятность того, что не перегорит ни одна лампочка = {puas(lmbd, 0) :.3f}')"
   ]
  },
  {
   "cell_type": "markdown",
   "id": "cdd04573",
   "metadata": {},
   "source": [
    "$$P \\approx \\frac{\\lambda^m}{m!}e^{-\\lambda} \\approx \\frac{2^{2}}{2!}e^{-2} \\approx  0.27$$"
   ]
  },
  {
   "cell_type": "code",
   "execution_count": 11,
   "id": "db0a0e9d",
   "metadata": {},
   "outputs": [
    {
     "name": "stdout",
     "output_type": "stream",
     "text": [
      "Вероятность того, что не перегорит ни одна лампочка = 0.271\n"
     ]
    }
   ],
   "source": [
    "print(f'Вероятность того, что не перегорит ни одна лампочка = {puas(lmbd, 2) :.3f}')"
   ]
  },
  {
   "cell_type": "markdown",
   "id": "fff50b9a",
   "metadata": {},
   "source": [
    "### 3. Монету подбросили 144 раза. Какова вероятность, что орел выпадет ровно 70 раз?"
   ]
  },
  {
   "cell_type": "markdown",
   "id": "358fadcc",
   "metadata": {},
   "source": [
    "А - монета выпала 40 раз\n",
    "\n",
    "n = 144\n",
    "\n",
    "k = 70\n",
    "\n",
    "p = 0.5\n",
    "\n",
    "q = 0.5"
   ]
  },
  {
   "cell_type": "markdown",
   "id": "a894aa17",
   "metadata": {},
   "source": [
    "$P_{144}(X=70) = C_{144}^{70} {0.5}^{70} {0.5}^{144-70} = $"
   ]
  },
  {
   "cell_type": "code",
   "execution_count": 14,
   "id": "5726b286",
   "metadata": {},
   "outputs": [
    {
     "name": "stdout",
     "output_type": "stream",
     "text": [
      "Вероятность того, что орел выпадет ровно 70 раз = 0.0628\n"
     ]
    }
   ],
   "source": [
    "P144 = (fl(144) / (fl(70) * fl(144 - 70))) * 0.5 ** 70 * 0.5 ** (144 - 70)\n",
    "print(f'Вероятность того, что орел выпадет ровно 70 раз = {P144 :.4f}')"
   ]
  },
  {
   "cell_type": "markdown",
   "id": "32209b0f",
   "metadata": {},
   "source": [
    "### 4. В первом ящике находится 10 мячей, из которых 7 - белые. Во втором ящике - 11 мячей, из которых 9 белых. Из каждого ящика вытаскивают случайным образом по два мяча. Какова вероятность того, что все мячи белые? Какова вероятность того, что ровно два мяча белые? Какова вероятность того, что хотя бы один мяч белый?"
   ]
  },
  {
   "cell_type": "markdown",
   "id": "28a973a7",
   "metadata": {},
   "source": [
    "А1 - мячи, вынутые из первого ящика все белые\n",
    "\n",
    "А2 - мячи, вынутые из второго ящика все белые\n",
    "\n",
    "А = А1 * А2 - все мячи белые"
   ]
  },
  {
   "cell_type": "markdown",
   "id": "6191f278",
   "metadata": {},
   "source": [
    "$P(A1) =  \\frac{C_{7}^{2}}{C_{10}^{2} }$"
   ]
  },
  {
   "cell_type": "markdown",
   "id": "c188b4f5",
   "metadata": {},
   "source": [
    "$P(A2) =  \\frac{C_{9}^{2}}{C_{11}^{2} }$"
   ]
  },
  {
   "cell_type": "markdown",
   "id": "5e8833c0",
   "metadata": {},
   "source": [
    "$P(A) = P(A1)*P(A2)$"
   ]
  },
  {
   "cell_type": "code",
   "execution_count": 15,
   "id": "181965fc",
   "metadata": {},
   "outputs": [
    {
     "name": "stdout",
     "output_type": "stream",
     "text": [
      "Вероятность того, что все мячи белые = 0.305\n"
     ]
    }
   ],
   "source": [
    "PA1 = (fl(7) / (fl(2)*fl(7 - 2))) / (fl(10) / (fl(2)*fl(10 - 2)))\n",
    "PA2 = (fl(9) / (fl(2)*fl(9 - 2))) / (fl(11) / (fl(2)*fl(11 - 2)))\n",
    "print(f'Вероятность того, что все мячи белые = {PA1 * PA2 :.3f}')"
   ]
  },
  {
   "cell_type": "markdown",
   "id": "55470fa1",
   "metadata": {},
   "source": [
    "A11 - из первого ящика вынули два белых мяча\n",
    "\n",
    "А12 - из второго ящика вынули только черные мячи\n",
    "\n",
    "А21 - из второго ящика вынули два белых мяча\n",
    "\n",
    "А22 - из первого ящика вынули только черные мячи\n",
    "\n",
    "А31 - из первого ящика вынули один белый мячи\n",
    "\n",
    "А32 - из второго ящика вынули один белый мячи\n",
    "\n",
    "А = А11 * А12 + А21 * А22 + А31 * А32 - вынули ровно два белых мяча"
   ]
  },
  {
   "cell_type": "markdown",
   "id": "d9471429",
   "metadata": {},
   "source": [
    "$P(A11) =  \\frac{C_{7}^{2}}{C_{10}^{2} }$"
   ]
  },
  {
   "cell_type": "markdown",
   "id": "2868b43e",
   "metadata": {},
   "source": [
    "$P(A12) =\\frac{C_{2}^{2}}{C_{11}^{2} }$"
   ]
  },
  {
   "cell_type": "markdown",
   "id": "ccb48f46",
   "metadata": {},
   "source": [
    "$P(A21) =\\frac{C_{3}^{2}}{C_{10}^{2} }$"
   ]
  },
  {
   "cell_type": "markdown",
   "id": "87f61455",
   "metadata": {},
   "source": [
    "$P(A22) = \\frac{C_{9}^{2}}{C_{11}^{2} }$"
   ]
  },
  {
   "cell_type": "markdown",
   "id": "8936293d",
   "metadata": {},
   "source": [
    "$P(A31) =  \\frac{C_{7}^{1} * C_{3}^{1}}{C_{10}^{2} }$"
   ]
  },
  {
   "cell_type": "markdown",
   "id": "a01c3271",
   "metadata": {},
   "source": [
    "$P(A32) =  \\frac{C_{9}^{1} * C_{2}^{1}}{C_{11}^{2} }$"
   ]
  },
  {
   "cell_type": "code",
   "execution_count": 17,
   "id": "d5ac32bd",
   "metadata": {},
   "outputs": [],
   "source": [
    "PA11A12 =  (fl(7) / (fl(2)*fl(7 - 2))) / (fl(10) / (fl(2)*fl(10 - 2))) * (fl(2) / (fl(2)*fl(2 - 2))) / (fl(11) / (fl(2)*fl(11 - 2)))\n",
    "PA21A22 = (fl(3) / (fl(2)*fl(3 - 2))) / (fl(10) / (fl(2)*fl(10 - 2))) * (fl(9) / (fl(2)*fl(9 - 2))) / (fl(11) / (fl(2)*fl(11 - 2)))\n",
    "PA31 = (fl(7) / (fl(1)*fl(7 - 1)) * fl(3)) / (fl(1)*fl(3 - 1)) / (fl(10) / (fl(2)*fl(10 - 2))) \n",
    "PA32 = (fl(9) / (fl(1)*fl(9 - 1)) * fl(2)) / (fl(1)*fl(2 - 1)) / (fl(11) / (fl(2)*fl(11 - 2)))"
   ]
  },
  {
   "cell_type": "code",
   "execution_count": 18,
   "id": "be7597fa",
   "metadata": {},
   "outputs": [
    {
     "name": "stdout",
     "output_type": "stream",
     "text": [
      "Вероятность того, что вынут ровно два белых мяча = 0.205\n"
     ]
    }
   ],
   "source": [
    "PA = PA11A12 + PA21A22 + PA31 * PA32\n",
    "print(f'Вероятность того, что вынут ровно два белых мяча = {PA :.3f}')"
   ]
  },
  {
   "cell_type": "code",
   "execution_count": 19,
   "id": "8474df53",
   "metadata": {},
   "outputs": [
    {
     "name": "stdout",
     "output_type": "stream",
     "text": [
      "Вероятность того, что вытянут хотя бы один белый мяч = 0.999\n"
     ]
    }
   ],
   "source": [
    "PA = 1 - (fl(3) / (fl(2)*fl(3 - 2))) / (fl(10) / (fl(2)*fl(10 - 2))) * (fl(2) / (fl(2)*fl(2 - 2))) / (fl(11) / (fl(2)*fl(11 - 2)))\n",
    "print(f'Вероятность того, что вытянут хотя бы один белый мяч = {PA :.3f}')"
   ]
  }
 ],
 "metadata": {
  "kernelspec": {
   "display_name": "Python 3 (ipykernel)",
   "language": "python",
   "name": "python3"
  },
  "language_info": {
   "codemirror_mode": {
    "name": "ipython",
    "version": 3
   },
   "file_extension": ".py",
   "mimetype": "text/x-python",
   "name": "python",
   "nbconvert_exporter": "python",
   "pygments_lexer": "ipython3",
   "version": "3.11.4"
  }
 },
 "nbformat": 4,
 "nbformat_minor": 5
}
