{
 "cells": [
  {
   "cell_type": "markdown",
   "id": "df2fb2c0",
   "metadata": {},
   "source": [
    "## Урок 7. Непараметрические тесты"
   ]
  },
  {
   "cell_type": "code",
   "execution_count": 1,
   "id": "4c529c0e",
   "metadata": {},
   "outputs": [],
   "source": [
    "import numpy as np\n",
    "import scipy.stats as stats"
   ]
  },
  {
   "cell_type": "markdown",
   "id": "d5ef21af",
   "metadata": {},
   "source": [
    "### 1 )  Даны две  независимые выборки. Не соблюдается условие нормальности  \n",
    "x1  380,420, 290  \n",
    "y1 140,360,200,900  \n",
    "\n",
    "Сделайте вывод по результатам, полученным с помощью функции  "
   ]
  },
  {
   "cell_type": "code",
   "execution_count": 2,
   "id": "b189c4fb",
   "metadata": {},
   "outputs": [
    {
     "data": {
      "text/plain": [
       "MannwhitneyuResult(statistic=8.0, pvalue=0.6285714285714286)"
      ]
     },
     "execution_count": 2,
     "metadata": {},
     "output_type": "execute_result"
    }
   ],
   "source": [
    "x1 = np.array([380, 420, 290])\n",
    "y1 = np.array([140, 360, 200, 900])\n",
    "alpha1 = 0.05\n",
    "\n",
    "stats.mannwhitneyu(x1, y1)"
   ]
  },
  {
   "cell_type": "markdown",
   "id": "25b57963",
   "metadata": {},
   "source": [
    "**$p-value > \\alpha$ -> $H_0$ не отвергается, статистических различий между группами нет**"
   ]
  },
  {
   "cell_type": "markdown",
   "id": "816e9b68",
   "metadata": {},
   "source": [
    "### 2 ) Исследовалось влияние препарата на уровень давления пациентов. Сначала измерялось давление до приема препарата, потом через 10 минут и через 30 минут. Есть ли статистически значимые различия?\n",
    "\n",
    "1е измерение до приема препарата: 150, 160, 165, 145, 155  \n",
    "2е измерение через 10 минут: 140, 155, 150,  130, 135  \n",
    "3е измерение через 30 минут: 130, 130, 120, 130, 125  "
   ]
  },
  {
   "cell_type": "code",
   "execution_count": 3,
   "id": "60d9452f",
   "metadata": {},
   "outputs": [
    {
     "data": {
      "text/plain": [
       "FriedmanchisquareResult(statistic=9.578947368421062, pvalue=0.00831683351100441)"
      ]
     },
     "execution_count": 3,
     "metadata": {},
     "output_type": "execute_result"
    }
   ],
   "source": [
    "x1_2 = np.array([150, 160, 165, 145, 155])\n",
    "x2_2 = np.array([140, 155, 150, 130, 135])\n",
    "x3_2 = np.array([130, 130, 120, 130, 125])\n",
    "alpha2 = 0.05\n",
    "\n",
    "stats.friedmanchisquare(x1_2, x2_2, x3_2)"
   ]
  },
  {
   "cell_type": "markdown",
   "id": "f2a0ff24",
   "metadata": {},
   "source": [
    "**$p-value < \\alpha$ -> $H_0$ отвергается, статистически значимые различий есть, препарат влияет на давлени**"
   ]
  },
  {
   "cell_type": "markdown",
   "id": "6a89e23d",
   "metadata": {},
   "source": [
    "### 3 ) Сравните 1 и 2 е измерения, предполагая, что 3го измерения через 30 минут не было."
   ]
  },
  {
   "cell_type": "code",
   "execution_count": 4,
   "id": "c894a680",
   "metadata": {},
   "outputs": [
    {
     "data": {
      "text/plain": [
       "WilcoxonResult(statistic=0.0, pvalue=0.0625)"
      ]
     },
     "execution_count": 4,
     "metadata": {},
     "output_type": "execute_result"
    }
   ],
   "source": [
    "stats.wilcoxon(x1_2, x2_2)"
   ]
  },
  {
   "cell_type": "markdown",
   "id": "52a49fc4",
   "metadata": {},
   "source": [
    "**$p-value > \\alpha$ -> $H_0$ не отвергается, статистических различий между группами нет, препарат не влияет на давление**"
   ]
  },
  {
   "cell_type": "markdown",
   "id": "ef83ba65",
   "metadata": {},
   "source": [
    "### 4) Даны 3 группы  учеников плавания.  \n",
    "В 1 группе время на дистанцию 50 м составляют:  \n",
    "56, 60, 62, 55, 71, 67, 59, 58, 64, 67  \n",
    "\n",
    "Вторая группа : 57, 58, 69, 48, 72, 70, 68, 71, 50, 53  \n",
    "Третья группа: 57, 67, 49, 48, 47, 55, 66, 51, 54  \n",
    "Есть ли статистически значимые различия между группами?"
   ]
  },
  {
   "cell_type": "code",
   "execution_count": 5,
   "id": "85efef8f",
   "metadata": {},
   "outputs": [
    {
     "data": {
      "text/plain": [
       "KruskalResult(statistic=5.465564058257224, pvalue=0.0650380998590494)"
      ]
     },
     "execution_count": 5,
     "metadata": {},
     "output_type": "execute_result"
    }
   ],
   "source": [
    "x1_4 = np.array([56, 60, 62, 55, 71, 67, 59, 58, 64, 67])\n",
    "x2_4 = np.array([57, 58, 69, 48, 72, 70, 68, 71, 50, 53])\n",
    "x3_4 = np.array([57, 67, 49, 48, 47, 55, 66, 51, 54])\n",
    "alpha_4 = 0.05\n",
    "stats.kruskal(x1_4, x2_4, x3_4)"
   ]
  },
  {
   "cell_type": "markdown",
   "id": "25935098",
   "metadata": {},
   "source": [
    "**$p-value > \\alpha$ -> $H_0$ не отвергается, статистических различий между группами нет, время на дистанцию одинаковое**"
   ]
  },
  {
   "cell_type": "markdown",
   "id": "d7d44663",
   "metadata": {},
   "source": [
    "### 5) Заявляется, что партия изготавливается со средним арифметическим 2,5 см. Проверить данную гипотезу, если известно, что размеры изделий подчинены нормальному закону распределения. Объем выборки 10, уровень статистической значимости 5%\n",
    "\n",
    "2.51, 2.35, 2.74, 2.56, 2.40, 2.36, 2.65, 2.7, 2.67, 2.34"
   ]
  },
  {
   "cell_type": "markdown",
   "id": "ba94d83c",
   "metadata": {},
   "source": [
    "**Определяем гипотезу**  \n",
    "  \n",
    "Основаная гипотеза $H_0: M(X)=2.5, \\mu=\\mu_0$  \n",
    "Альтернативная гипотеза $H_1: M(X)=2.5, \\mu\\neq\\mu_0$  \n",
    "$ ДКО: \\Omega_\\alpha=(- \\infty, t_{\\alpha/2},) \\cup (t_{1-\\alpha/2}, \\infty)$  \n",
    "  \n",
    "**Определяем наблюдаемое критерий**  \n",
    "  \n",
    "Нам неизвестна дисперсия и мы проверяем гипотезу относительно математического ожидания нормально распределённой случайной величины будем использовать $t$-критерий.  \n",
    "$t=\\dfrac{\\overline{X}-\\mu}{\\sigma_X/\\sqrt{n}}$  \n",
    "  \n",
    "Размер выборки: $n=10$, $ \\mu=2.5$   "
   ]
  },
  {
   "cell_type": "code",
   "execution_count": 6,
   "id": "bf36f694",
   "metadata": {},
   "outputs": [],
   "source": [
    "arr5 = [2.51, 2.35, 2.74, 2.56, 2.40, 2.36, 2.65, 2.7, 2.67, 2.34]"
   ]
  },
  {
   "cell_type": "markdown",
   "id": "1795be22",
   "metadata": {},
   "source": [
    "Расчитаем наблюдаемое значение $t$-критерия $t_н$"
   ]
  },
  {
   "cell_type": "code",
   "execution_count": 8,
   "id": "d27fed92",
   "metadata": {},
   "outputs": [
    {
     "name": "stdout",
     "output_type": "stream",
     "text": [
      "Наблюдаемое значение t-критерия: 0.5631\n"
     ]
    }
   ],
   "source": [
    "n5 = 10\n",
    "mu5 = 2.5\n",
    "x_mean = np.mean(arr5)\n",
    "sigma5 = np.std(arr5, ddof = 1)\n",
    "tn5 = (x_mean - mu5) / (sigma5 / n5**0.5)\n",
    "print(f'Наблюдаемое значение t-критерия: {round(tn5, 4)}')"
   ]
  },
  {
   "cell_type": "markdown",
   "id": "01b7d0b1",
   "metadata": {},
   "source": [
    "**Определяем уровень значимости**\n",
    "  \n",
    "$\\alpha=0.05$  "
   ]
  },
  {
   "cell_type": "code",
   "execution_count": 9,
   "id": "645f8ac8",
   "metadata": {},
   "outputs": [
    {
     "name": "stdout",
     "output_type": "stream",
     "text": [
      "Табличное значение t-критерия: t2 = -2.2622, t1 = 2.2622\n"
     ]
    }
   ],
   "source": [
    "alpha5 = 0.05\n",
    "\n",
    "t1_5 = stats.t.ppf(1 - alpha5 / 2, n5 - 1)\n",
    "t2_5 = stats.t.ppf(alpha5 / 2, n5 - 1)\n",
    "print(f'Табличное значение t-критерия: t2 = {round(t2_5, 4)}, t1 = {round(t1_5, 4)}')"
   ]
  },
  {
   "cell_type": "code",
   "execution_count": 10,
   "id": "1818e343",
   "metadata": {},
   "outputs": [
    {
     "data": {
      "text/plain": [
       "True"
      ]
     },
     "execution_count": 10,
     "metadata": {},
     "output_type": "execute_result"
    }
   ],
   "source": [
    "t2_5 < np.abs(tn5) < t1_5"
   ]
  },
  {
   "cell_type": "markdown",
   "id": "e407ad73",
   "metadata": {},
   "source": [
    "**Так как $t_2<|t_н|<t_1$, то нулевая гипотеза $H_0$ не отвергается**"
   ]
  }
 ],
 "metadata": {
  "kernelspec": {
   "display_name": "Python 3 (ipykernel)",
   "language": "python",
   "name": "python3"
  },
  "language_info": {
   "codemirror_mode": {
    "name": "ipython",
    "version": 3
   },
   "file_extension": ".py",
   "mimetype": "text/x-python",
   "name": "python",
   "nbconvert_exporter": "python",
   "pygments_lexer": "ipython3",
   "version": "3.11.4"
  }
 },
 "nbformat": 4,
 "nbformat_minor": 5
}
