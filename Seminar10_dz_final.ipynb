{
 "cells": [
  {
   "cell_type": "markdown",
   "id": "d557493a",
   "metadata": {},
   "source": [
    "## Урок 10. Дисперсионный анализ"
   ]
  },
  {
   "cell_type": "code",
   "execution_count": 4,
   "id": "8103d835",
   "metadata": {},
   "outputs": [],
   "source": [
    "import numpy as np"
   ]
  },
  {
   "cell_type": "markdown",
   "id": "e535c495",
   "metadata": {},
   "source": [
    "### Провести дисперсионный анализ для определения того, есть ли различия среднего роста среди взрослых футболистов, хоккеистов и штангистов. Даны значения роста в трех группах случайно выбранных спортсменов: Футболисты: 173, 175, 180, 178, 177, 185, 183, 182. Хоккеисты: 177, 179, 180, 188, 177, 172, 171, 184, 180. Штангисты: 172, 173, 169, 177, 166, 180, 178, 177, 172, 166, 170."
   ]
  },
  {
   "cell_type": "code",
   "execution_count": 24,
   "id": "482a2e0a",
   "metadata": {},
   "outputs": [
    {
     "name": "stdout",
     "output_type": "stream",
     "text": [
      "28\n"
     ]
    }
   ],
   "source": [
    "group = 3\n",
    "len_1 = 8\n",
    "len_2 = 9\n",
    "len_3 = 11\n",
    "n = len_1 + len_2 + len_3\n",
    "print(n)"
   ]
  },
  {
   "cell_type": "code",
   "execution_count": 5,
   "id": "67d848bb",
   "metadata": {},
   "outputs": [],
   "source": [
    "arr_1 = np.array([173, 175, 180, 178, 177, 185, 183, 182], dtype=np.float64)\n",
    "arr_2 = np.array([177, 179, 180, 188, 177, 172, 171, 184, 180], dtype=np.float64)\n",
    "arr_3 = np.array([172, 173, 169, 177, 166, 180, 178, 177, 172, 166, 170], dtype=np.float64)"
   ]
  },
  {
   "cell_type": "markdown",
   "id": "0d6d338b",
   "metadata": {},
   "source": [
    "**Проведем однофакторный дисперсионный анализ**"
   ]
  },
  {
   "cell_type": "code",
   "execution_count": 8,
   "id": "18256639",
   "metadata": {},
   "outputs": [
    {
     "name": "stdout",
     "output_type": "stream",
     "text": [
      "Средний рост футболистов: 179.12\n",
      "Средний рост хокеистов: 178.67\n",
      "Средний рост штангистов: 172.73\n"
     ]
    }
   ],
   "source": [
    "arr_1_mean = np.mean(arr_1)\n",
    "arr_2_mean = np.mean(arr_2)\n",
    "arr_3_mean = np.mean(arr_3)\n",
    "print(f'Средний рост футболистов: {round(arr_1_mean, 2)}')\n",
    "print(f'Средний рост хокеистов: {round(arr_2_mean, 2)}')\n",
    "print(f'Средний рост штангистов: {round(arr_3_mean, 2)}')"
   ]
  },
  {
   "cell_type": "markdown",
   "id": "03ed7fd5",
   "metadata": {},
   "source": [
    "**Видно, что средний рост разнится. Установим, что это отличие статистически значимо**"
   ]
  },
  {
   "cell_type": "code",
   "execution_count": 9,
   "id": "e55d1735",
   "metadata": {},
   "outputs": [
    {
     "name": "stdout",
     "output_type": "stream",
     "text": [
      "Средний рост всех групп: 176.46\n"
     ]
    }
   ],
   "source": [
    "arr_all = np.concatenate([arr_1, arr_2, arr_3])\n",
    "all_mean = np.mean(arr_all)\n",
    "print(f'Средний рост всех групп: {round(all_mean, 2)}')"
   ]
  },
  {
   "cell_type": "code",
   "execution_count": 10,
   "id": "96951976",
   "metadata": {},
   "outputs": [
    {
     "name": "stdout",
     "output_type": "stream",
     "text": [
      "Сумма квадратов отклонений наблюдений от общего среднего: 830.96\n"
     ]
    }
   ],
   "source": [
    "s2 = np.sum((arr_all - all_mean)**2)\n",
    "print(f'Сумма квадратов отклонений наблюдений от общего среднего: {round(s2, 2)}')"
   ]
  },
  {
   "cell_type": "code",
   "execution_count": 11,
   "id": "d90502fe",
   "metadata": {},
   "outputs": [
    {
     "name": "stdout",
     "output_type": "stream",
     "text": [
      "Сумма квадратов отклонений средних групповых значений от общего среднего: 253.91\n"
     ]
    }
   ],
   "source": [
    "s2_f = ((arr_1_mean - all_mean)**2) * len_1 + ((arr_2_mean - all_mean)**2) * len_2 + ((arr_3_mean - all_mean)**2) * len_3\n",
    "print(f'Сумма квадратов отклонений средних групповых значений от общего среднего: {round(s2_f, 2)}')"
   ]
  },
  {
   "cell_type": "code",
   "execution_count": 16,
   "id": "eceb2956",
   "metadata": {},
   "outputs": [
    {
     "name": "stdout",
     "output_type": "stream",
     "text": [
      "Остаточная сумма квадратов отклонений: 577.06\n"
     ]
    }
   ],
   "source": [
    "s2_residual = np.sum((arr_1 - arr_1_mean)**2) + np.sum((arr_2 - arr_2_mean)**2) + np.sum((arr_3 - arr_3_mean)**2)\n",
    "print(f'Остаточная сумма квадратов отклонений: {round(s2_residual, 2)}')"
   ]
  },
  {
   "cell_type": "markdown",
   "id": "cc5ba66f",
   "metadata": {},
   "source": [
    "Удостоверимся, что соблюдается равенство $S^2 = S_F^2 + S_{ост}^2$"
   ]
  },
  {
   "cell_type": "code",
   "execution_count": 20,
   "id": "cecac405",
   "metadata": {},
   "outputs": [
    {
     "name": "stdout",
     "output_type": "stream",
     "text": [
      "830.96\n",
      "830.96\n"
     ]
    }
   ],
   "source": [
    "print(round(s2, 2))\n",
    "print(round(s2_f + s2_residual, 2))"
   ]
  },
  {
   "cell_type": "code",
   "execution_count": 22,
   "id": "407a6795",
   "metadata": {},
   "outputs": [
    {
     "name": "stdout",
     "output_type": "stream",
     "text": [
      "Общая дисперсия: 30.78\n"
     ]
    }
   ],
   "source": [
    "sigma2_general = s2 / (n - 1)\n",
    "print(f'Общая дисперсия: {round(sigma2_general, 2)}')"
   ]
  },
  {
   "cell_type": "code",
   "execution_count": 25,
   "id": "a0623e47",
   "metadata": {},
   "outputs": [
    {
     "name": "stdout",
     "output_type": "stream",
     "text": [
      "Факторная дисперсия: 126.95\n"
     ]
    }
   ],
   "source": [
    "sigma2_f = s2_f / (group - 1)\n",
    "print(f'Факторная дисперсия: {round(sigma2_f, 2)}')"
   ]
  },
  {
   "cell_type": "code",
   "execution_count": 26,
   "id": "28716442",
   "metadata": {},
   "outputs": [
    {
     "name": "stdout",
     "output_type": "stream",
     "text": [
      "Остаточная дисперсия: 23.08\n"
     ]
    }
   ],
   "source": [
    "sigma2_residual = s2_residual / (n - group)\n",
    "print(f'Остаточная дисперсия: {round(sigma2_residual, 2)}')"
   ]
  },
  {
   "cell_type": "markdown",
   "id": "537b3ca5",
   "metadata": {},
   "source": [
    "**Вычеслим $F_H$**"
   ]
  },
  {
   "cell_type": "code",
   "execution_count": 28,
   "id": "8bb62d8e",
   "metadata": {},
   "outputs": [
    {
     "name": "stdout",
     "output_type": "stream",
     "text": [
      "5.5\n"
     ]
    }
   ],
   "source": [
    "F_h = sigma2_f / sigma2_residual\n",
    "print(round(F_h, 2))"
   ]
  },
  {
   "cell_type": "markdown",
   "id": "ceccc24a",
   "metadata": {},
   "source": [
    "Найдем значение $F_{крит}$ в таблице критических точек распределения Фишера-Снедекора для заданного уровня значимости $\\alpha = 0.05$ и двух степеней свободы:  \n",
    "$df_{межд} = k - 1 = 3 - 1 = 2$ и $df_{внутр} = n - k = 28 - 3 = 25$"
   ]
  },
  {
   "cell_type": "markdown",
   "id": "5b8150a4",
   "metadata": {},
   "source": [
    "**Для данных значений $F_{крит} = 3.3852$ Так как $F_H > F_{крит}$ отвергнута гипотеза Н0, различие роста в трех группах статистически значимо**"
   ]
  }
 ],
 "metadata": {
  "kernelspec": {
   "display_name": "Python 3 (ipykernel)",
   "language": "python",
   "name": "python3"
  },
  "language_info": {
   "codemirror_mode": {
    "name": "ipython",
    "version": 3
   },
   "file_extension": ".py",
   "mimetype": "text/x-python",
   "name": "python",
   "nbconvert_exporter": "python",
   "pygments_lexer": "ipython3",
   "version": "3.11.4"
  }
 },
 "nbformat": 4,
 "nbformat_minor": 5
}
