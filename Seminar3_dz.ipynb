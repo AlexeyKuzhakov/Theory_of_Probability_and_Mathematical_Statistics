{
 "cells": [
  {
   "cell_type": "markdown",
   "id": "13308278",
   "metadata": {},
   "source": [
    "## Урок 3. EDA (exploratory data analysis) или Разведочный анализ"
   ]
  },
  {
   "cell_type": "code",
   "execution_count": 11,
   "id": "ace73369",
   "metadata": {},
   "outputs": [],
   "source": [
    "import numpy as np\n",
    "import pandas as pd\n",
    "import matplotlib.pyplot as plt\n",
    "from math import factorial"
   ]
  },
  {
   "cell_type": "markdown",
   "id": "3e985351",
   "metadata": {},
   "source": [
    "### Даны значения зарплат из выборки выпускников: 100, 80, 75, 77, 89, 33, 45, 25, 65, 17, 30, 24, 57, 55, 70, 75, 65, 84, 90, 150. Посчитать (желательно без использования статистических методов наподобие std, var, mean) среднее арифметическое, среднее квадратичное отклонение, смещенную и несмещенную оценки дисперсий для данной выборки."
   ]
  },
  {
   "cell_type": "code",
   "execution_count": 13,
   "id": "ffc5a6a6",
   "metadata": {},
   "outputs": [],
   "source": [
    "arr=pd.Series([100, 80, 75, 77, 89, 33, 45, 25, 65, 17, 30, 24, 57, 55, 70, 75, 65, 84, 90, 150])"
   ]
  },
  {
   "cell_type": "code",
   "execution_count": 29,
   "id": "d3aee745",
   "metadata": {},
   "outputs": [
    {
     "name": "stdout",
     "output_type": "stream",
     "text": [
      "Среднее арифметическое = 65.3\n"
     ]
    }
   ],
   "source": [
    "sr = arr.sum()/arr.count()\n",
    "print(f'Среднее арифметическое = {sr}')"
   ]
  },
  {
   "cell_type": "code",
   "execution_count": 31,
   "id": "9fddfcbe",
   "metadata": {},
   "outputs": [
    {
     "name": "stdout",
     "output_type": "stream",
     "text": [
      "Среднее квадратичное отклонение = 30.82\n"
     ]
    }
   ],
   "source": [
    "so = np.sqrt(((arr - sr) ** 2).sum() / arr.count())\n",
    "print(f'Среднее квадратичное отклонение = {round(so, 2)}')"
   ]
  },
  {
   "cell_type": "code",
   "execution_count": 32,
   "id": "e7c08589",
   "metadata": {},
   "outputs": [
    {
     "name": "stdout",
     "output_type": "stream",
     "text": [
      "Смещенная и несмещенная оценки дисперсий: 950.11 и 1000.12\n"
     ]
    }
   ],
   "source": [
    "variance = ((arr - sr) ** 2).sum() / arr.count()\n",
    "variance2 = ((arr - sr) ** 2).sum() / (arr.count() - 1)\n",
    "print(f'Смещенная и несмещенная оценки дисперсий: {variance} и {round(variance2, 2)}')"
   ]
  },
  {
   "cell_type": "markdown",
   "id": "fb033d5d",
   "metadata": {},
   "source": [
    "### В первом ящике находится 8 мячей, из которых 5 - белые. Во втором ящике - 12 мячей, из которых 5 белых. Из первого ящика вытаскивают случайным образом два мяча, из второго - 4. Какова вероятность того, что 3 мяча белые?"
   ]
  },
  {
   "cell_type": "code",
   "execution_count": 20,
   "id": "127ee16e",
   "metadata": {},
   "outputs": [],
   "source": [
    "def comb(n,k):\n",
    "    return factorial(n) / (factorial(k) * factorial(n - k))"
   ]
  },
  {
   "cell_type": "code",
   "execution_count": 33,
   "id": "0720ea47",
   "metadata": {},
   "outputs": [
    {
     "name": "stdout",
     "output_type": "stream",
     "text": [
      "Вероятность того, что 3 мяча белые = 0.37\n"
     ]
    }
   ],
   "source": [
    "P1 = (comb(5,0) * comb(3,2) / comb(8,2)) * (comb(5,3) * comb(7,1) / comb(12,4))\n",
    "P2 = (comb(5,1) * comb(3,1) / comb(8,2)) * (comb(5,2) * comb(7,2) / comb(12,4))\n",
    "P3=(comb(5,2) * comb(3,0) / comb(8,2)) * (comb(5,1) * comb(7,3) / comb(12,4))\n",
    "print(f'Вероятность того, что 3 мяча белые = {round(P1 + P2 + P3, 2)}')"
   ]
  },
  {
   "cell_type": "markdown",
   "id": "cc9fcdc7",
   "metadata": {},
   "source": [
    "### На соревновании по биатлону один из трех спортсменов стреляет и попадает в мишень. Вероятность попадания для первого спортсмена равна 0.9, для второго — 0.8, для третьего — 0.6. Найти вероятность того, что выстрел произведен: a). первым спортсменом б). вторым спортсменом в). третьим спортсменом."
   ]
  },
  {
   "cell_type": "code",
   "execution_count": 26,
   "id": "40695c78",
   "metadata": {},
   "outputs": [],
   "source": [
    "a = 1/3 * 0.9 + 1/3 * 0.8 + 1/3 * 0.6"
   ]
  },
  {
   "cell_type": "code",
   "execution_count": 34,
   "id": "5bf6cec2",
   "metadata": {},
   "outputs": [
    {
     "name": "stdout",
     "output_type": "stream",
     "text": [
      "Вероятность того, что выстрел произведен первым спортсменом = 0.39\n"
     ]
    }
   ],
   "source": [
    "pa1 = 1 / 3 * 0.9 / a\n",
    "print(f'Вероятность того, что выстрел произведен первым спортсменом = {round(pa1, 2)}')"
   ]
  },
  {
   "cell_type": "code",
   "execution_count": 35,
   "id": "be6a79c8",
   "metadata": {},
   "outputs": [
    {
     "name": "stdout",
     "output_type": "stream",
     "text": [
      "Вероятность того, что выстрел произведен вторым спортсменом = 0.35\n"
     ]
    }
   ],
   "source": [
    "pa2 = 1 / 3 * 0.8 / a\n",
    "print(f'Вероятность того, что выстрел произведен вторым спортсменом = {round(pa2, 2)}')"
   ]
  },
  {
   "cell_type": "code",
   "execution_count": 36,
   "id": "c02c3374",
   "metadata": {},
   "outputs": [
    {
     "name": "stdout",
     "output_type": "stream",
     "text": [
      "Вероятность того, что выстрел произведен третьим спортсменом = 0.26\n"
     ]
    }
   ],
   "source": [
    "pa3 = 1 / 3 * 0.6 / a\n",
    "print(f'Вероятность того, что выстрел произведен третьим спортсменом = {round(pa3, 2)}')"
   ]
  },
  {
   "cell_type": "markdown",
   "id": "992e9b97",
   "metadata": {},
   "source": [
    "### В университет на факультеты A и B поступило равное количество студентов, а на факультет C студентов поступило столько же, сколько на A и B вместе. Вероятность того, что студент факультета A сдаст первую сессию, равна 0.8. Для студента факультета B эта вероятность равна 0.7, а для студента факультета C - 0.9. Студент сдал первую сессию. Какова вероятность, что он учится: a). на факультете A б). на факультете B в). на факультете C?"
   ]
  },
  {
   "cell_type": "code",
   "execution_count": 37,
   "id": "a2d44850",
   "metadata": {},
   "outputs": [],
   "source": [
    "t = 0.25 * 0.8 + 0.25 * 0.7 + 0.5 * 0.9"
   ]
  },
  {
   "cell_type": "code",
   "execution_count": 40,
   "id": "0c147030",
   "metadata": {},
   "outputs": [
    {
     "name": "stdout",
     "output_type": "stream",
     "text": [
      "Вероятность того, что студент учится на факультете А: 0.24\n"
     ]
    }
   ],
   "source": [
    "student1 = 0.25 * 0.8 / t\n",
    "print(f'Вероятность того, что студент учится на факультете А: {round(student1, 2)}')"
   ]
  },
  {
   "cell_type": "code",
   "execution_count": 41,
   "id": "19eff429",
   "metadata": {},
   "outputs": [
    {
     "name": "stdout",
     "output_type": "stream",
     "text": [
      "Вероятность того, что студент учится на факультете B: 0.21\n"
     ]
    }
   ],
   "source": [
    "student2 = 0.25 * 0.7 / t\n",
    "print(f'Вероятность того, что студент учится на факультете B: {round(student2, 2)}')"
   ]
  },
  {
   "cell_type": "code",
   "execution_count": 43,
   "id": "190ce4df",
   "metadata": {},
   "outputs": [
    {
     "name": "stdout",
     "output_type": "stream",
     "text": [
      "Вероятность того, что студент учится на факультете C: 0.55\n"
     ]
    }
   ],
   "source": [
    "student3 = 0.5 * 0.9 / t\n",
    "print(f'Вероятность того, что студент учится на факультете C: {round(student3, 2)}')"
   ]
  },
  {
   "cell_type": "markdown",
   "id": "76b35941",
   "metadata": {},
   "source": [
    "### Устройство состоит из трех деталей. Для первой детали вероятность выйти из строя в первый месяц равна 0.1, для второй - 0.2, для третьей - 0.25. Какова вероятность того, что в первый месяц выйдут из строя: а). все детали б). только две детали в). хотя бы одна деталь г). от одной до двух деталей?"
   ]
  },
  {
   "cell_type": "code",
   "execution_count": 51,
   "id": "7d549937",
   "metadata": {},
   "outputs": [
    {
     "name": "stdout",
     "output_type": "stream",
     "text": [
      "Вероятность того, что из строя выйдут все детали: 0.005\n"
     ]
    }
   ],
   "source": [
    "all_a = 0.1 * 0.2 * 0.25\n",
    "print(f'Вероятность того, что из строя выйдут все детали: {round(all_a, 4)}')"
   ]
  },
  {
   "cell_type": "code",
   "execution_count": 52,
   "id": "b65330d0",
   "metadata": {},
   "outputs": [
    {
     "name": "stdout",
     "output_type": "stream",
     "text": [
      "Вероятность того, что из строя выйдут две детали: 0.08\n"
     ]
    }
   ],
   "source": [
    "det_b = 0.1 * 0.2 * 0.75 + 0.1 * 0.8 * 0.25 + 0.9 * 0.2 * 0.25\n",
    "print(f'Вероятность того, что из строя выйдут две детали: {round(det_b, 4)}')"
   ]
  },
  {
   "cell_type": "code",
   "execution_count": 54,
   "id": "0f6737c5",
   "metadata": {},
   "outputs": [
    {
     "name": "stdout",
     "output_type": "stream",
     "text": [
      "Вероятность того, что из строя выйдет хотя бы одна деталь: 0.46\n"
     ]
    }
   ],
   "source": [
    "det_v = 1 - 0.9 * 0.8 * 0.75\n",
    "print(f'Вероятность того, что из строя выйдет хотя бы одна деталь: {round(det_v, 4)}')"
   ]
  },
  {
   "cell_type": "code",
   "execution_count": 56,
   "id": "9f6489a4",
   "metadata": {},
   "outputs": [
    {
     "name": "stdout",
     "output_type": "stream",
     "text": [
      "Вероятность того, что из строя выйдет от одной до двух деталей: 0.54\n"
     ]
    }
   ],
   "source": [
    "print(f'Вероятность того, что из строя выйдет от одной до двух деталей: {round(det_b + det_v, 4)}')"
   ]
  }
 ],
 "metadata": {
  "kernelspec": {
   "display_name": "Python 3 (ipykernel)",
   "language": "python",
   "name": "python3"
  },
  "language_info": {
   "codemirror_mode": {
    "name": "ipython",
    "version": 3
   },
   "file_extension": ".py",
   "mimetype": "text/x-python",
   "name": "python",
   "nbconvert_exporter": "python",
   "pygments_lexer": "ipython3",
   "version": "3.11.4"
  }
 },
 "nbformat": 4,
 "nbformat_minor": 5
}
